{
 "cells": [
  {
   "cell_type": "markdown",
   "id": "398bf9a0-e6f6-4f42-abb9-2a038df614f5",
   "metadata": {},
   "source": [
    "Import libraries"
   ]
  },
  {
   "cell_type": "code",
   "execution_count": null,
   "id": "25d63c95-7678-4e6e-8b52-6c31703922c3",
   "metadata": {
    "tags": []
   },
   "outputs": [],
   "source": [
    "import os\n",
    "import cv2\n",
    "import math\n",
    "import numpy\n",
    "import pandas\n",
    "import geopandas\n",
    "import matplotlib.pyplot\n",
    "import matplotlib.patches\n",
    "import pysal\n",
    "import pathlib\n",
    "from PIL import Image\n",
    "from scipy.spatial import Voronoi, voronoi_plot_2d\n",
    "from scipy.spatial import distance\n",
    "from esda import Moran, Geary\n",
    "from libpysal.weights import Queen\n",
    "import ipywidgets\n",
    "from ipywidgets import interact, interactive, fixed, interact_manual\n",
    "from skimage import restoration"
   ]
  },
  {
   "cell_type": "markdown",
   "id": "9d61d3dd-5a71-4957-a4df-c67d873930af",
   "metadata": {},
   "source": [
    "Input parameters"
   ]
  },
  {
   "cell_type": "code",
   "execution_count": null,
   "id": "67f5f64c-20bd-4cdd-ba45-a593b0b50824",
   "metadata": {},
   "outputs": [],
   "source": [
    "number=0"
   ]
  },
  {
   "cell_type": "code",
   "execution_count": null,
   "id": "bbeb6306-8bdc-454d-9132-6dc6e0c4e18a",
   "metadata": {},
   "outputs": [],
   "source": [
    "#warnings.filterwarnings('ignore')\n",
    "BadLabel=\"_ORG\"\n",
    "impath=\"path\"\n",
    "labels=[\"dye1\",\"dye2\"]\n",
    "labelR=\"BF\"\n",
    "imlabel=\".tif\"\n",
    "invertBF=False\n",
    "ImageSaveFolder=\"path-IMG\"\n",
    "csvSaveFolder=\"path-CSV\"\n",
    "if os.path.exists(ImageSaveFolder)==False:\n",
    "    os.makedirs(ImageSaveFolder)\n",
    "if os.path.exists(csvSaveFolder)==False:\n",
    "    os.makedirs(csvSaveFolder)\n",
    "pixeltoum = 0.178 #micrometros\n",
    "AreaperField = 228.86*170.95*(10**-6) #area de cada campo en mm^2\n",
    "squaredPixel = 1038*1388 #pixels\n",
    "thr_value = 20\n",
    "thr_value2 = 250\n",
    "thr2_value=250\n",
    "thr2_value2=250\n",
    "intersection_threshold = 0.5  # Ajusta este valor según tu necesidad\n",
    "x=0\n",
    "showing=True\n",
    "pixeltoum = 0.178 #micrometros\n",
    "minArea=(1**2)*math.pi\n",
    "maxArea=math.pi*50**2\n",
    "cheackarea=False\n",
    "Grain=False"
   ]
  },
  {
   "cell_type": "markdown",
   "id": "f0c25a1a-20a1-41a0-85d6-e3b18f738d61",
   "metadata": {},
   "source": [
    "Step by step"
   ]
  },
  {
   "cell_type": "code",
   "execution_count": null,
   "id": "8b5dfc2a-e1e1-448f-b7c3-edd249e0861f",
   "metadata": {},
   "outputs": [],
   "source": [
    "showing=True"
   ]
  },
  {
   "cell_type": "code",
   "execution_count": null,
   "id": "f5839ef7-236e-4c72-a79f-e5902285897c",
   "metadata": {
    "scrolled": true,
    "tags": []
   },
   "outputs": [],
   "source": [
    "## Posision de archivos al inicio\n",
    "fn=0\n",
    "label=labels[0]\n",
    "imlist=[]\n",
    "imlist2=[]\n",
    "for (root,dirs,files) in os.walk(impath, topdown=True):\n",
    "    if showing==True:\n",
    "        print(str(x)+\" \"+root)\n",
    "        print(\"\")\n",
    "    for file in files:\n",
    "        if not file.endswith(imlabel):\n",
    "            continue\n",
    "        if label in file:\n",
    "            if showing==True:                print(\"image file: \"+file)\n",
    "            imlist += [os.path.join(root,file)]\n",
    "        if labelR in file:\n",
    "            if showing==True: print(\"image file 2: \"+file)\n",
    "            imlist2 += [os.path.join(root,file)]"
   ]
  },
  {
   "cell_type": "code",
   "execution_count": null,
   "id": "82f88051-add9-44d8-a4b5-a3e713960982",
   "metadata": {},
   "outputs": [],
   "source": [
    "Conds=[]\n",
    "for Folder in [x for x in os.listdir(impath) if os.path.isdir(os.path.join(impath,x))]:\n",
    "    Conds += [Folder]\n",
    "print(Conds)"
   ]
  },
  {
   "cell_type": "markdown",
   "id": "95ae4ff7-6804-4ed7-b3e2-3ed30871efc4",
   "metadata": {},
   "source": [
    "First condition con=0"
   ]
  },
  {
   "cell_type": "code",
   "execution_count": null,
   "id": "c308558f-1e7d-48fe-aa66-3bd4f0e535c9",
   "metadata": {},
   "outputs": [],
   "source": [
    "con=number\n",
    "Cond=Conds[con]\n",
    "print(Cond)"
   ]
  },
  {
   "cell_type": "code",
   "execution_count": null,
   "id": "6c9f3827-ef60-4157-a997-bf5b8dcf60e4",
   "metadata": {
    "tags": []
   },
   "outputs": [],
   "source": [
    "imlistCon=[f for f in imlist if Cond in f]\n",
    "imlist2Con=[f for f in imlist2 if Cond in f]\n",
    "#thr2_value = thr2_values[con]\n",
    "print(len(imlistCon))"
   ]
  },
  {
   "cell_type": "markdown",
   "id": "929ed3e1-29d4-4979-b3bd-d49c216a0f1a",
   "metadata": {},
   "source": [
    "For each file fn=0"
   ]
  },
  {
   "cell_type": "code",
   "execution_count": null,
   "id": "12e6c931-b1b8-4ba6-a4a7-0330d02077d8",
   "metadata": {},
   "outputs": [],
   "source": [
    "#fn=0\n",
    "print(imlistCon[fn])\n",
    "imn=imlistCon[fn]\n",
    "print(imlist2Con[fn])\n",
    "imn2=imlist2Con[fn]"
   ]
  },
  {
   "cell_type": "code",
   "execution_count": null,
   "id": "0d92f16f-7e86-43af-8140-00573fcb8474",
   "metadata": {},
   "outputs": [],
   "source": [
    "#check if file was already processed\n",
    "SaveCSV=csvSaveFolder+\"/\"+imlistCon[fn].replace(\"\\\\\",\"/\").replace(csvSaveFolder.replace(csvSaveFolder.split(\"/\")[-1],\"\"),\"\")\n",
    "pathlib.Path(SaveCSV.replace(SaveCSV.split(\"/\")[-1],\"\")).mkdir(parents=True, exist_ok=True)\n",
    "if os.path.isfile(SaveCSV.split('.')[0]+'.csv'):\n",
    "    if showing == True:\n",
    "        print(\"Already processed\")"
   ]
  },
  {
   "cell_type": "code",
   "execution_count": null,
   "id": "931a9ce8-c161-4184-a692-7b5bf2071d7b",
   "metadata": {
    "scrolled": true,
    "tags": []
   },
   "outputs": [],
   "source": [
    "#open image 1 and 2\n",
    "im=matplotlib.pyplot.imread(imn)\n",
    "im2=matplotlib.pyplot.imread(imn2)\n",
    "if showing==True:\n",
    "    matplotlib.pyplot.imshow(im)\n",
    "    if ImageSaveFolder != \"\":\n",
    "        matplotlib.pyplot.savefig(ImageSaveFolder+\"/1\"+labels[0]+\"-\"+imlistCon[fn].split(\"\\\\\")[-1].split(\"/\")[-1].split(\".\")[0]+\".png\")\n",
    "    matplotlib.pyplot.show()\n",
    "    matplotlib.pyplot.imshow(im2)\n",
    "    if ImageSaveFolder != \"\":\n",
    "        matplotlib.pyplot.savefig(ImageSaveFolder+\"/1Bright-\"+imlistCon[fn].split(\"\\\\\")[-1].split(\"/\")[-1].split(\".\")[0]+\".png\")\n",
    "    matplotlib.pyplot.show()"
   ]
  },
  {
   "cell_type": "code",
   "execution_count": null,
   "id": "41bef52b-e332-464b-aba2-db1a333f80db",
   "metadata": {
    "scrolled": true,
    "tags": []
   },
   "outputs": [],
   "source": [
    "#Process image 1\n",
    "\n",
    "#thr_value = 20\n",
    "#thr_value2 = 250\n",
    "\n",
    "imgray = cv2.cvtColor(im, cv2.COLOR_BGR2GRAY) #threshold\n",
    "if showing==True:\n",
    "    matplotlib.pyplot.imshow(imgray)\n",
    "    if ImageSaveFolder != \"\":\n",
    "        matplotlib.pyplot.savefig(ImageSaveFolder+\"/2DAPI-\"+imlistCon[fn].split(\"\\\\\")[-1].split(\"/\")[-1].split(\".\")[0]+\".png\")\n",
    "    matplotlib.pyplot.show()\n",
    "####\n",
    "background = restoration.rolling_ball(imgray, radius=50)\n",
    "if showing==True:\n",
    "    matplotlib.pyplot.imshow(background)\n",
    "    if ImageSaveFolder != \"\":\n",
    "        matplotlib.pyplot.savefig(ImageSaveFolder+\"/3DAPI-\"+imlistCon[fn].split(\"\\\\\")[-1].split(\"/\")[-1].split(\".\")[0]+\".png\")\n",
    "    matplotlib.pyplot.show()\n",
    "imgray2=imgray-background\n",
    "if showing==True:\n",
    "    matplotlib.pyplot.imshow(imgray2)\n",
    "    if ImageSaveFolder != \"\":\n",
    "        matplotlib.pyplot.savefig(ImageSaveFolder+\"/4DAPI-\"+imlistCon[fn].split(\"\\\\\")[-1].split(\"/\")[-1].split(\".\")[0]+\".png\")\n",
    "    matplotlib.pyplot.show()\n",
    "###\n",
    "ret, thresh = cv2.threshold(imgray2, thr_value,thr_value2,cv2.THRESH_BINARY)#+cv2.THRESH_OTSU)\n",
    "if showing==True:\n",
    "    matplotlib.pyplot.imshow(thresh)\n",
    "    if ImageSaveFolder != \"\":\n",
    "        matplotlib.pyplot.savefig(ImageSaveFolder+\"/5DAPI-\"+imlistCon[fn].split(\"\\\\\")[-1].split(\"/\")[-1].split(\".\")[0]+\".png\")\n",
    "    matplotlib.pyplot.show()"
   ]
  },
  {
   "cell_type": "code",
   "execution_count": null,
   "id": "f56272c8-0a53-419a-8800-b905e10061c5",
   "metadata": {
    "scrolled": true,
    "tags": []
   },
   "outputs": [],
   "source": [
    "\n",
    "#Process image 2\n",
    "imgray2 = cv2.cvtColor(im2, cv2.COLOR_BGR2GRAY) #threshold\n",
    "if showing==True:\n",
    "    matplotlib.pyplot.imshow(imgray2)\n",
    "    if ImageSaveFolder != \"\":\n",
    "        matplotlib.pyplot.savefig(ImageSaveFolder+\"/2Bright-\"+imlistCon[fn].split(\"\\\\\")[-1].split(\"/\")[-1].split(\".\")[0]+\".png\")\n",
    "    matplotlib.pyplot.show()\n",
    "'''\n",
    "equ = cv2.equalizeHist(imgray2)\n",
    "print(\"equ\")\n",
    "matplotlib.pyplot.imshow(equ)\n",
    "matplotlib.pyplot.show()\n",
    "ret,th = cv2.threshold(equ, 50, 255, 0)\n",
    "print(\"thresh\")\n",
    "matplotlib.pyplot.imshow(th)\n",
    "matplotlib.pyplot.show()\n",
    "print(\"kernel\")\n",
    "kernel = cv2.getStructuringElement(cv2.MORPH_ELLIPSE,(3,3))\n",
    "matplotlib.pyplot.imshow(kernel)\n",
    "matplotlib.pyplot.show()\n",
    "print(\"dilate\")\n",
    "dilate = cv2.morphologyEx(th, cv2.MORPH_DILATE, kernel,3)\n",
    "dilate = cv2.morphologyEx(dilate, cv2.MORPH_DILATE, kernel,3)\n",
    "dilate = cv2.morphologyEx(dilate, cv2.MORPH_DILATE, kernel,3)\n",
    "matplotlib.pyplot.imshow(dilate)\n",
    "matplotlib.pyplot.show()\n",
    "'''\n",
    "###\n",
    "#thr2_value=100\n",
    "ret, thresh2 = cv2.threshold(imgray2, thr2_value,thr2_value2,cv2.THRESH_BINARY)#+cv2.THRESH_OTSU)\n",
    "if invertBF:\n",
    "    thresh2=cv2.bitwise_not(thresh2)\n",
    "if showing==True:\n",
    "    matplotlib.pyplot.imshow(thresh2)\n",
    "    if ImageSaveFolder != \"\":\n",
    "        matplotlib.pyplot.savefig(ImageSaveFolder+\"/3Bright-\"+imlistCon[fn].split(\"\\\\\")[-1].split(\"/\")[-1].split(\".\")[0]+\".png\")\n",
    "    matplotlib.pyplot.show()\n",
    "thresh2\n"
   ]
  },
  {
   "cell_type": "code",
   "execution_count": null,
   "id": "81df7a68-b3f8-4d17-be84-8a6582c976f3",
   "metadata": {},
   "outputs": [],
   "source": [
    "thresh.size"
   ]
  },
  {
   "cell_type": "code",
   "execution_count": null,
   "id": "71032b80-6c1d-4127-9843-c182c2cb8f81",
   "metadata": {
    "tags": []
   },
   "outputs": [],
   "source": [
    "# obten los contornos desde las imagenes binarias"
   ]
  },
  {
   "cell_type": "code",
   "execution_count": null,
   "id": "f45c914f-bb36-4370-8284-71a741e4c3fa",
   "metadata": {
    "tags": []
   },
   "outputs": [],
   "source": [
    "#imagen 1 contornos\n",
    "imc=matplotlib.pyplot.imread(imn)\n",
    "if showing==True:\n",
    "    matplotlib.pyplot.imshow(imc)\n",
    "    if ImageSaveFolder != \"\":\n",
    "        matplotlib.pyplot.savefig(ImageSaveFolder+\"/6DAPI-\"+imlistCon[fn].split(\"\\\\\")[-1].split(\"/\")[-1].split(\".\")[0]+\".png\")\n",
    "    matplotlib.pyplot.show()\n",
    "if showing==True: print(\"getting contours\")\n",
    "contours, _ = cv2.findContours(thresh, cv2.RETR_TREE, cv2.CHAIN_APPROX_SIMPLE)\n",
    "imc=cv2.drawContours(imc, contours, -1, (0,255,0), 3)\n",
    "if showing==True:\n",
    "    matplotlib.pyplot.imshow(imc)\n",
    "    if ImageSaveFolder != \"\":\n",
    "        matplotlib.pyplot.savefig(ImageSaveFolder+\"/6DAPI-\"+imlistCon[fn].split(\"\\\\\")[-1].split(\"/\")[-1].split(\".\")[0]+\".png\")\n",
    "    matplotlib.pyplot.show()"
   ]
  },
  {
   "cell_type": "code",
   "execution_count": null,
   "id": "92ece98f-be60-49e2-994d-391aee1d75f8",
   "metadata": {
    "tags": []
   },
   "outputs": [],
   "source": [
    "#imagen 2 contornos (agujeros)\n",
    "im2c=matplotlib.pyplot.imread(imn2)\n",
    "if showing==True:\n",
    "    matplotlib.pyplot.imshow(im2c)\n",
    "    if ImageSaveFolder != \"\":\n",
    "        matplotlib.pyplot.savefig(ImageSaveFolder+\"/4Bright-\"+imlistCon[fn].split(\"\\\\\")[-1].split(\"/\")[-1].split(\".\")[0]+\".png\")\n",
    "    matplotlib.pyplot.show()\n",
    "contours2,_ = cv2.findContours(thresh2, cv2.RETR_TREE, cv2.CHAIN_APPROX_SIMPLE)\n",
    "im2c=cv2.drawContours(im2c, contours2, -1, (0,255,0), 3)\n",
    "if showing==True:\n",
    "    matplotlib.pyplot.imshow(im2c)\n",
    "    if ImageSaveFolder != \"\":\n",
    "        matplotlib.pyplot.savefig(ImageSaveFolder+\"/5Bright-\"+imlistCon[fn].split(\"\\\\\")[-1].split(\"/\")[-1].split(\".\")[0]+\".png\")\n",
    "    matplotlib.pyplot.show()\n",
    "    \n",
    "#ve el area de los agujeros\n",
    "colors, counts = numpy.unique(thresh2.reshape(-1, 1),return_counts = True,axis = 0)\n",
    "for numb in range(len(colors)):\n",
    "    color=colors[numb]\n",
    "    count=counts[numb]\n",
    "    #print(str(color)+\": \"+str(count))\n",
    "sum(counts)\n",
    "holeArea=counts[0]/thresh2.size\n"
   ]
  },
  {
   "cell_type": "code",
   "execution_count": null,
   "id": "190f8b4f-dfd9-40e7-a527-c7dff3527fb3",
   "metadata": {
    "scrolled": true,
    "tags": []
   },
   "outputs": [],
   "source": [
    "#ahora filtra los contornos de la imagen 1 si tienen una tamaño menor que el area minimo o mayor que el area maxima o si se sobreponen con contornos de la imagen 2\n",
    "filtered_contours = []\n",
    "trash_contours=[]\n",
    "cheackarea=True\n",
    "#Iteramos sobre los contornos en contours\n",
    "#for contour1 in range(len(contours)):\n",
    "for cnt1 in range(len(contours)):\n",
    "    #print(\"---------------------------------------------------------------------------------\")\n",
    "    #print(cnt1)\n",
    "    contour1=contours[cnt1]\n",
    "    keep_contour1 = True  # Variable para indicar si se debe mantener el contorno 1\n",
    "    if cheackarea==True:\n",
    "        area = cv2.contourArea(contour1)\n",
    "        #print(str(maxArea)+\" > \"+str(area)+\" > \"+str(minArea))\n",
    "        if maxArea < area or area < minArea:\n",
    "            #print(\"Wont keep this contour\")\n",
    "            keep_contour1 = False\n",
    "            trash_contours.append(contour1)\n",
    "            continue\n",
    "    '''\n",
    "    if keep_contour1==True:\n",
    "        print(\"this contour will be kept\")\n",
    "    '''\n",
    "    #print(\"Keep processing ---------------------------\")\n",
    "    #for contour2 in contours2:\n",
    "    for cnt2 in range(len(contours2)):\n",
    "        #print(cnt2)\n",
    "        contour2=contours2[cnt2]\n",
    "        #make sure the area isnt too small\n",
    "        area2 = cv2.contourArea(contour2)\n",
    "        if area2 < math.pi*(2**2):#if the area is smaller than the minimun, continue with the next contour\n",
    "            #print(\"the area is too small to matter\")\n",
    "            continue\n",
    "        # Encuentra la intersección entre los dos contornos\n",
    "        intersection = cv2.intersectConvexConvex(contour1, contour2)\n",
    "        #print(\"checking the intersection\")\n",
    "        #print(intersection)\n",
    "        # Verifica si la intersección es válida\n",
    "        if intersection[0] == (0.0):\n",
    "            #print(\"no intersection\")\n",
    "            continue\n",
    "        elif intersection[0] != (0.0):\n",
    "            if showing==True: print(\"the holes touch the colony, get rid of it\")\n",
    "            keep_contour1 = False\n",
    "            trash_contours.append(contour1)\n",
    "            #print(\"Break\")\n",
    "            break\n",
    "    #print(\"still in the first loop\")\n",
    "    #save the contour\n",
    "    if keep_contour1==True:\n",
    "        filtered_contours.append(contour1)\n",
    "    #muestra imagenes\n",
    "if showing == True:\n",
    "    print(\"this countours wont be keep\")\n",
    "    imc=matplotlib.pyplot.imread(imn)\n",
    "    imc=cv2.drawContours(imc, trash_contours, -1, (0,255,0), 3)\n",
    "    matplotlib.pyplot.imshow(imc, interpolation='nearest')\n",
    "    if ImageSaveFolder != \"\":\n",
    "        matplotlib.pyplot.savefig(ImageSaveFolder+\"/7DAPI-trash-\"+imlistCon[fn].split(\"\\\\\")[-1].split(\"/\")[-1].split(\".\")[0]+\".png\")\n",
    "    matplotlib.pyplot.show()\n",
    "    # filtered_contours ahora contiene los contornos de la imagen 1 después de eliminar las superposiciones\n",
    "    print(\"this countours will be keep\")\n",
    "    imc1=matplotlib.pyplot.imread(imn)\n",
    "    imc1=cv2.drawContours(imc1, filtered_contours, -1, (0,255,0), 3)\n",
    "    matplotlib.pyplot.imshow(imc1, interpolation='nearest')\n",
    "    if ImageSaveFolder != \"\":\n",
    "        matplotlib.pyplot.savefig(ImageSaveFolder+\"/8DAPI-keep-\"+imlistCon[fn].split(\"\\\\\")[-1].split(\"/\")[-1].split(\".\")[0]+\".png\")\n",
    "    matplotlib.pyplot.show()"
   ]
  },
  {
   "cell_type": "code",
   "execution_count": null,
   "id": "49133f65-65aa-410d-8a7f-eb38a06f7098",
   "metadata": {},
   "outputs": [],
   "source": [
    "NNs=[]\n",
    "Positions,Majors,Minors,Angles,Areas,Perimeters,Circularities,AspectRats,Rounds=[],[],[],[],[],[],[],[],[]"
   ]
  },
  {
   "cell_type": "markdown",
   "id": "42fe8212-f013-4d6f-a117-44b1ebfea902",
   "metadata": {},
   "source": [
    "for each contour ncnt1=0"
   ]
  },
  {
   "cell_type": "code",
   "execution_count": null,
   "id": "40fd1d70-95d7-4b42-81df-6fd06d963119",
   "metadata": {},
   "outputs": [],
   "source": [
    "ncnt=0\n",
    "contour1=filtered_contours[ncnt]"
   ]
  },
  {
   "cell_type": "code",
   "execution_count": null,
   "id": "087aa1b4-fa29-45a5-9500-e4bdccc1b32c",
   "metadata": {
    "scrolled": true,
    "tags": []
   },
   "outputs": [],
   "source": [
    "distances=[]\n",
    "for ncnt2 in range(len(filtered_contours)):\n",
    "    (xc,yc),(major, minor),angle = (0,0),(0,0),0\n",
    "    (xc2,yc2),(major2, minor2),angle2 = (0,0),(0,0),0\n",
    "    if ncnt == ncnt2:\n",
    "        continue\n",
    "    if showing == True:\n",
    "        image1=matplotlib.pyplot.imread(imlist[fn])\n",
    "        matplotlib.pyplot.imshow(image1)\n",
    "        print(\"image with two countours\")\n",
    "        image1=cv2.drawContours(image1, (filtered_contours[ncnt],filtered_contours[ncnt2]), -1, (0,255,0), 3)\n",
    "        matplotlib.pyplot.imshow(image1, interpolation='nearest')\n",
    "        matplotlib.pyplot.show()\n",
    "    cnt = filtered_contours[ncnt]\n",
    "    if 5 > len(filtered_contours[ncnt]):\n",
    "        #print(\"not enough countours to get an ellipse in the first colony\")\n",
    "        circle = cv2.minEnclosingCircle(cnt)\n",
    "        (xc,yc),rad = circle\n",
    "    else:\n",
    "        ellipse = cv2.fitEllipse(cnt)\n",
    "        (xc,yc),(major, minor),angle = ellipse\n",
    "    cnt2 = filtered_contours[ncnt2]\n",
    "    if 5 > len(filtered_contours[ncnt2]):\n",
    "        #print(\"not enough countours to get an ellipse in the second colony\")\n",
    "        circle=cv2.minEnclosingCircle(cnt2)\n",
    "        (xc2,yc2),rad = circle\n",
    "    else:\n",
    "        ellipse = cv2.fitEllipse(cnt2)\n",
    "        (xc2,yc2),(major2, minor2),angle2 = ellipse\n",
    "    if showing == True:\n",
    "        print(\"Position \"+str(ncnt)+\" :\"+str((xc,yc))+\" Postion \"+str(ncnt2)+\" :\"+str((xc2,yc2)))\n",
    "    #now check the distance between the two points, pitagoras\n",
    "    distan = pixeltoum*math.sqrt((xc-xc2)**2+(yc-yc2)**2)\n",
    "    if showing == True:\n",
    "        print(\"the distance between this points is: \"+str(distan)+\" pixels or \"+str(distan*pixeltoum))\n",
    "    distances.append(distan)\n",
    "if showing == True:\n",
    "    print(\"The nearest neighbor is at: \"+str(min(distances))+\" μm\")\n",
    "try:\n",
    "    NNs.append(min(distances))\n",
    "except ValueError:\n",
    "    NNs.append(None)"
   ]
  },
  {
   "cell_type": "code",
   "execution_count": null,
   "id": "b8661171-ea75-42bf-a543-28d5a6382774",
   "metadata": {},
   "outputs": [],
   "source": [
    "#obten otros parametros importantes del contorno\n",
    "circl=False\n",
    "(xc,yc),(major, minor),angle = (0,0),(0,0),0\n",
    "cnt = filtered_contours[ncnt]\n",
    "try:\n",
    "    ellipse = cv2.fitEllipse(cnt)\n",
    "    (xc,yc),(major, minor),angle = ellipse\n",
    "except  Exception as e:\n",
    "    if showing ==True:\n",
    "        print(e)\n",
    "        print(\"not enough countours to get an ellipse in the first colony\")\n",
    "    circle = cv2.minEnclosingCircle(cnt)\n",
    "    (xc,yc),major = circle\n",
    "    minor=major\n",
    "Area = cv2.contourArea(cnt)  # Area of first contour\n",
    "Perimeter = cv2.arcLength(cnt, True)  # Perimeter of first contour \n",
    "major=major*pixeltoum\n",
    "minor=minor*pixeltoum\n",
    "Area=Area*pixeltoum*pixeltoum*1000\n",
    "Perimeter=Perimeter*pixeltoum\n",
    "#otros parametros\n",
    "try:\n",
    "    Ciruclarity = 4*(math.pi)*(Area/(Perimeter**2))\n",
    "except  Exception as e:\n",
    "    if showing==True: print(e)\n",
    "    Ciruclarity=None\n",
    "AspectRatio = major/minor\n",
    "try:\n",
    "    Roundness = 4*(Area/(((math.pi)*major)**2))\n",
    "except:\n",
    "    Roundness = None\n",
    "try:\n",
    "    xc,yc=int(xc),int(yc)\n",
    "except  Exception as e:\n",
    "    if showing == True: print(e)\n",
    "if showing == True:\n",
    "    print(\"Position:\"+str([xc,yc]))\n",
    "    print(\"Major: \"+str(major)+\" μm\")\n",
    "    print(\"Minor: \"+str(minor)+\" μm\")\n",
    "    print(\"Angle: \"+str(angle)+\" μm\")\n",
    "    print(\"Area: \"+str(Area)+\" nm^2\")\n",
    "    print(\"Perimeter: \"+str(Perimeter)+\" μm\")\n",
    "    print(\"Circularity: \"+str(Ciruclarity))\n",
    "    print(\"Aspect Ratio: \"+str(AspectRatio))\n",
    "    print(\"Roundness: \"+str(Roundness))\n",
    "Positions.append([xc,yc])\n",
    "Majors.append(major)\n",
    "Minors.append(minor)\n",
    "Angles.append(angle)\n",
    "Areas.append(Area)\n",
    "Perimeters.append(Perimeter)\n",
    "Circularities.append(Ciruclarity)\n",
    "AspectRats.append(AspectRatio)\n",
    "Rounds.append(Roundness)"
   ]
  },
  {
   "cell_type": "markdown",
   "id": "0fa3b80a-acd8-4f6e-bfd3-557b32c7e437",
   "metadata": {},
   "source": [
    "Termina la imagen y guarda el dataframe"
   ]
  },
  {
   "cell_type": "code",
   "execution_count": null,
   "id": "13269782-7aa1-493a-96fa-42daa9bb7660",
   "metadata": {},
   "outputs": [],
   "source": [
    "PercentHole=[]\n",
    "for num in range(len(Positions)):\n",
    "    PercentHole.append(holeArea)\n",
    "'''\n",
    "print(len(Positions))\n",
    "print(len(Majors))\n",
    "print(len(Minors))\n",
    "print(len(Angles))\n",
    "print(len(Areas))\n",
    "print(len(Perimeters))\n",
    "print(len(Circularities))\n",
    "print(len(AspectRats))\n",
    "print(len(Rounds))\n",
    "print(len(NNs))\n",
    "print(len(PercentHole))\n",
    "'''"
   ]
  },
  {
   "cell_type": "code",
   "execution_count": null,
   "id": "29335d72-9a61-4b8c-aafa-69f0499ef2eb",
   "metadata": {},
   "outputs": [],
   "source": [
    "data=pandas.DataFrame({\"Position\": Positions,\"Major [μm]\": Majors,\"Minor [μm]\": Minors,\n",
    "                       \"Angle [μm]\": Angles,\"Area [nm^2]\": Areas,\"Perimeter [μm]\": Perimeters,\n",
    "                       \"Circularity\": Circularities,\"Aspect Ratio\": AspectRats,\"Roundness\": Rounds,\n",
    "                       \"NearestNeighbor [μm]\": NNs,\"Hole Area [%]\": PercentHole})"
   ]
  },
  {
   "cell_type": "code",
   "execution_count": null,
   "id": "970fbcee-b5b8-4ebb-9f03-dc0f5f9030cd",
   "metadata": {},
   "outputs": [],
   "source": [
    "if showing==True: print(\"data is going to be saved\")\n",
    "data.to_csv(SaveCSV.split(\".\")[0]+\".csv\", index=False)"
   ]
  },
  {
   "cell_type": "markdown",
   "id": "6fbdd087-4aea-446d-823e-7cb2d6ba01ff",
   "metadata": {},
   "source": [
    "Ahora, abre todos los archivos de condiciones y haz un resumen con una linea por imagen"
   ]
  },
  {
   "cell_type": "code",
   "execution_count": null,
   "id": "fdbfcd5c-4126-41bc-91a3-26ecc7022250",
   "metadata": {},
   "outputs": [],
   "source": [
    "#revisa todos los archivos csv obtenidos hasta ahora\n",
    "con=7\n",
    "Cond=Conds[con]\n",
    "print(Cond)\n",
    "imlistCon=[f for f in imlist if Cond in f]\n",
    "imlist2Con=[f for f in imlist2 if Cond in f]\n",
    "thr2_value = thr2_values[con]\n",
    "print(len(imlistCon))"
   ]
  },
  {
   "cell_type": "code",
   "execution_count": null,
   "id": "183b02f2-b3a6-49de-a089-5826f9fc3d65",
   "metadata": {
    "tags": []
   },
   "outputs": [],
   "source": [
    "#check if file was already processed\n",
    "proc=0\n",
    "noproc=0\n",
    "for fn in range(len(imlistCon)):\n",
    "    SaveCSV=csvSaveFolder+\"/\"+imlistCon[fn].replace(\"\\\\\",\"/\").replace(csvSaveFolder.replace(csvSaveFolder.split(\"/\")[-1],\"\"),\"\")\n",
    "    pathlib.Path(SaveCSV.replace(SaveCSV.split(\"/\")[-1],\"\")).mkdir(parents=True, exist_ok=True)\n",
    "    if os.path.isfile(SaveCSV.split('.')[0]+'.csv'):\n",
    "        proc=proc+1\n",
    "    else:\n",
    "        noproc=noproc+1\n",
    "if showing == True:\n",
    "    print(str(proc)+\"/\"+str(len(imlistCon)))\n",
    "#f proc==len(imlistCon):\n",
    "    #continuar"
   ]
  },
  {
   "cell_type": "code",
   "execution_count": null,
   "id": "3b8e9e8e-9690-4bdf-b517-f1a8b33b6bce",
   "metadata": {},
   "outputs": [],
   "source": [
    "AvMajor,AvMinor,AvAngle,AvArea,AvPer,AvCir,AvAR,AvRo,AvNN=[],[],[],[],[],[],[],[],[]\n",
    "PercentHoles=[]\n",
    "FieldArea=[]\n",
    "RipleyKs,MoranIs,GearyCs,MoranIIs,GearyCIs,MoranCorrSizes,MoranCorrSizesR=[],[],[],[],[],[],[]\n",
    "imlistNames=[]"
   ]
  },
  {
   "cell_type": "markdown",
   "id": "4a0d2169-f17c-4f2d-b565-cd39e7f0193d",
   "metadata": {},
   "source": [
    "continua cargando cada archivo para calcular sus variables globales. fn=0"
   ]
  },
  {
   "cell_type": "code",
   "execution_count": null,
   "id": "292699a3-91a0-4c3e-82f2-9204c9d76318",
   "metadata": {},
   "outputs": [],
   "source": [
    "fn=2\n",
    "imn=imlistCon[fn]\n",
    "imn2=imlist2Con[fn]"
   ]
  },
  {
   "cell_type": "code",
   "execution_count": null,
   "id": "4d9b6808-0dd2-401f-949f-67219df0f89b",
   "metadata": {},
   "outputs": [],
   "source": [
    "imlistNames.append(imn.split(\".\")[0].split(\"/\")[-1].split(\"\\\\\")[-1])\n",
    "imlistNames"
   ]
  },
  {
   "cell_type": "code",
   "execution_count": null,
   "id": "4878e714-46cd-4178-82c0-ffad89c4572e",
   "metadata": {},
   "outputs": [],
   "source": [
    "SaveCSV=csvSaveFolder+\"/\"+imlistCon[fn].replace(\"\\\\\",\"/\").replace(csvSaveFolder.replace(csvSaveFolder.split(\"/\")[-1],\"\"),\"\")\n",
    "pathlib.Path(SaveCSV.replace(SaveCSV.split(\"/\")[-1],\"\")).mkdir(parents=True, exist_ok=True)\n",
    "if os.path.isfile(SaveCSV.split('.')[0]+'.csv'):\n",
    "    data = pandas.read_csv(SaveCSV.split(\".\")[0]+\".csv\")\n",
    "'''\n",
    "else:\n",
    "    continue\n",
    "'''\n",
    "print(SaveCSV)\n",
    "data"
   ]
  },
  {
   "cell_type": "code",
   "execution_count": null,
   "id": "eccc77de-6c5e-4275-8bc2-721191637500",
   "metadata": {},
   "outputs": [],
   "source": [
    "r_max=600\n",
    "x,y,radius,coordinates=[],[],[],[]\n",
    "for n in range(len(data[\"Position\"])):\n",
    "    try:\n",
    "        x.append(int(data[\"Position\"][n].replace(\"(\",\"\").replace(\")\",\"\").split(\",\")[0]))\n",
    "        y.append(int(data[\"Position\"][n].replace(\"(\",\"\").replace(\")\",\"\").split(\",\")[1]))\n",
    "        radius.append(int(data[\"Major [μm]\"][n]))\n",
    "        coor=[int(data[\"Position\"][n].replace(\"(\",\"\").replace(\")\",\"\").split(\",\")[0]),int(data[\"Position\"][n].replace(\"(\",\"\").replace(\")\",\"\").split(\",\")[1])]\n",
    "        coordinates.append(coor)\n",
    "    except:\n",
    "        continue\n",
    "coordinatesN = numpy.array(coordinates)"
   ]
  },
  {
   "cell_type": "code",
   "execution_count": null,
   "id": "977afd6d-6b9d-4d76-b87c-1e95a29cd61c",
   "metadata": {},
   "outputs": [],
   "source": [
    "#Voronoi\n",
    "if len(coordinatesN) > 2:\n",
    "    vor = Voronoi(coordinatesN)\n",
    "    fig = voronoi_plot_2d(vor)\n",
    "    fig = voronoi_plot_2d(vor, show_vertices=False, line_colors='orange',line_width=2, line_alpha=0.6, point_size=2)\n",
    "    if ImageSaveFolder != \"\":\n",
    "        matplotlib.pyplot.savefig(ImageSaveFolder+\"/Voronoi-\"+imlistCon[fn].split(\"\\\\\")[-1].split(\"/\")[-1].split(\".\")[0]+\".png\")\n",
    "    if showing == True:\n",
    "        matplotlib.pyplot.show()\n",
    "    else: matplotlib.pyplot.close()"
   ]
  },
  {
   "cell_type": "code",
   "execution_count": null,
   "id": "412fb28c-0a40-4156-af81-0ffcaddde9f5",
   "metadata": {},
   "outputs": [],
   "source": [
    "#Segundo Ripley's K\n",
    "if showing==True: print(\"ripleyK\")\n",
    "r_values = numpy.linspace(0, r_max, num=100)  # You can adjust the number of bins\n",
    "n = len(coordinatesN)\n",
    "k_values = numpy.zeros(len(r_values))\n",
    "for i, r in enumerate(r_values):\n",
    "    k_values[i] = numpy.sum([numpy.sum(numpy.logical_and(distance.cdist([p], coordinatesN) <= r, distance.cdist([p], coordinatesN) > 0)) - 1 for p in coordinatesN]) / n\n",
    "matplotlib.pyplot.plot(r_values, k_values, marker='o')\n",
    "matplotlib.pyplot.axline((0, 0), slope=1, color='red', linestyle='--', label='$K(r) = r$')  # Add the reference line\n",
    "matplotlib.pyplot.xlabel('Distance')\n",
    "matplotlib.pyplot.ylabel('Ripley\\'s K-function')\n",
    "matplotlib.pyplot.legend()\n",
    "if ImageSaveFolder != \"\":\n",
    "    matplotlib.pyplot.savefig(ImageSaveFolder+\"/RipleyK-\"+imlistCon[fn].split(\"\\\\\")[-1].split(\"/\")[-1].split(\".\")[0]+\".png\")\n",
    "if showing == True:\n",
    "    matplotlib.pyplot.show()\n",
    "else: matplotlib.pyplot.close()\n",
    "max_k_index = numpy.argmax(k_values)  # Index of maximum K-value\n",
    "max_r = r_values[max_k_index]  # Distance at maximum K-value\n",
    "max_k = k_values[max_k_index]  # Maximum K-value\n",
    "if max_k < max_r:\n",
    "    interpretation = \"Clustering\"  # K(r) < r suggests clustering\n",
    "elif max_k > max_r:\n",
    "    interpretation = \"Regular/Uniform\"  # K(r) > r suggests regular or uniform distribution\n",
    "else:\n",
    "    interpretation = \"Random\"  # K(r) = r suggests random distribution\n",
    "if showing == True:    print(\"Ripley's K:\", interpretation)\n",
    "RipleyKs.append(interpretation)"
   ]
  },
  {
   "cell_type": "code",
   "execution_count": null,
   "id": "226c4b95-e092-41e5-89df-d3376ac5edce",
   "metadata": {},
   "outputs": [],
   "source": [
    "# Create a GeoDataFrame from the colony data\n",
    "geometry = geopandas.points_from_xy(x, y)\n",
    "datag = {'radius': radius}  # Include other attributes if needed\n",
    "gdf = geopandas.GeoDataFrame(datag, geometry=geometry)\n",
    "# Create a spatial weights matrix (Queen contiguity)\n",
    "w = Queen.from_dataframe(gdf)\n",
    "if showing==True: print(\"moran and geary\")\n",
    "# Calculate Moran's I\n",
    "moran = Moran(gdf.radius, w)\n",
    "# Calculate Geary's C\n",
    "geary = Geary(gdf.radius, w)\n",
    "moran_value, geary_value=moran.I, geary.C\n",
    "moran_interpretation = None\n",
    "geary_interpretation = None\n",
    "# Interpret Moran's I\n",
    "if moran_value > 0:\n",
    "    moran_interpretation = \"Spatial Clustering\"\n",
    "elif moran_value < 0:\n",
    "    moran_interpretation = \"Spatial Dispersion\"\n",
    "else:\n",
    "    moran_interpretation = \"Random Spatial Pattern\"\n",
    "# Interpret Geary's C\n",
    "if geary_value < 0.5:\n",
    "    geary_interpretation = \"Spatial Clustering\"\n",
    "elif geary_value > 0.5:\n",
    "    geary_interpretation = \"Spatial Dispersion\"\n",
    "else:\n",
    "    geary_interpretation = \"Random Spatial Pattern\"\n",
    "if showing == True:\n",
    "    # Print results\n",
    "    print(\"Moran's I:\", moran.I)\n",
    "    print(\"Geary's C:\", geary.C)\n",
    "    print(\"Interpretation of Moran's I:\", moran_interpretation)\n",
    "    print(\"Interpretation of Geary's C:\", geary_interpretation)\n",
    "MoranIs.append(moran.I)\n",
    "GearyCs.append(geary.C)\n",
    "MoranIIs.append(moran_interpretation)\n",
    "GearyCIs.append(geary_interpretation)\n",
    "size_list=radius\n",
    "position_list=coordinates\n",
    "#size_autocorrelation = calculate_size_autocorrelation(size_list, position_list, w)\n",
    "size_list, position_list, spatial_weights = size_list, position_list, w\n",
    "moran = Moran(size_list, spatial_weights)\n",
    "size_autocorrelation=moran.I\n",
    "if showing == True:\n",
    "    print(\"Spatial Autocorrelation of Colony Sizes (Moran's I):\", size_autocorrelation)\n",
    "MoranCorrSizes.append(size_autocorrelation)\n",
    "moran_i_value =  size_autocorrelation  # Replace with your calculated Moran's I value\n",
    "#interpretation = interpret_autocorrelation_result(moran_i_value)\n",
    "if moran_i_value > 0:\n",
    "    interpretation = \"Positive spatial autocorrelation: Larger sizes tend to be near other larger sizes.\"\n",
    "elif moran_i_value < 0:\n",
    "    interpretation = \"Negative spatial autocorrelation: Smaller sizes tend to be near larger sizes.\"\n",
    "else:\n",
    "    interpretation = \"No significant spatial autocorrelation: Colony sizes are randomly distributed.\"\n",
    "if showing == True:\n",
    "    print(\"Interpretation of Spatial Autocorrelation Result:\", interpretation)\n",
    "MoranCorrSizesR.append(interpretation)"
   ]
  },
  {
   "cell_type": "code",
   "execution_count": null,
   "id": "83795c18-d172-4f73-87e1-09b8436f741e",
   "metadata": {},
   "outputs": [],
   "source": [
    "RipleyKs,MoranIs,GearyCs,MoranIIs,GearyCIs,MoranCorrSizes,MoranCorrSizesR"
   ]
  },
  {
   "cell_type": "code",
   "execution_count": null,
   "id": "0422a1cb-21a4-435c-baa5-9e79f5f5ccfa",
   "metadata": {},
   "outputs": [],
   "source": [
    "AvMajor.append(data[\"Major [μm]\"].mean(axis=0))\n",
    "AvMinor.append(data[\"Minor [μm]\"].mean(axis=0))\n",
    "AvAngle.append(data[\"Angle [μm]\"].mean(axis=0))\n",
    "AvArea.append(data[\"Area [nm^2]\"].mean(axis=0))\n",
    "AvPer.append(data[\"Perimeter [μm]\"].mean(axis=0))\n",
    "AvCir.append(data[\"Circularity\"].mean(axis=0))\n",
    "AvAR.append(data[\"Aspect Ratio\"].mean(axis=0))\n",
    "AvRo.append(data[\"Roundness\"].mean(axis=0))\n",
    "AvNN.append(data[\"NearestNeighbor [μm]\"].mean(axis=0))\n",
    "FieldArea.append((data['Area [nm^2]'].sum())/(AreaperField*10**12)*100)#AreaperField in mm^2, *100 para obtener un porcentaje\n",
    "PercentHoles.append(PercentHole)"
   ]
  },
  {
   "cell_type": "code",
   "execution_count": null,
   "id": "324c43af-d6b2-440e-9d91-a491d6a126e7",
   "metadata": {},
   "outputs": [],
   "source": []
  },
  {
   "cell_type": "code",
   "execution_count": null,
   "id": "c28f13ad-29ce-4328-92de-e6a33570ed3a",
   "metadata": {},
   "outputs": [],
   "source": [
    "data2=pandas.DataFrame({\"File Name\":imlistNames,\n",
    "                       \"Major mean [μm]\": AvMajor,\n",
    "                       \"Minor mean [μm]\": AvMinor,\n",
    "                       \"Angle mean [μm]\": AvAngle,\n",
    "                       \"Colony area mean [nm^2]\": AvArea,\n",
    "                       \"Perimeter mean [μm]\": AvPer,\n",
    "                       \"Circularity mean\": AvCir,\n",
    "                       \"Aspect ratio mean\": AvAR,\n",
    "                       \"Roundness mean\": AvRo,\n",
    "                       \"Nearest Neighbor mean [μm]\": AvNN,\n",
    "                       \"Colonized area [%]\": FieldArea,\n",
    "                       \"Ripley's K\": RipleyKs,\n",
    "                       \"Moran's I\": MoranIs,\n",
    "                       \"Geary's C\": GearyCs,\n",
    "                       \"Moran's I's interpretation\": MoranIIs,\n",
    "                       \"Geary's C interpretation\": GearyCIs,\n",
    "                       \"Radius correlation with position by Moran's I\": MoranCorrSizes,\n",
    "                       \"Radius correlation with position by Moran's I interpretation\": MoranCorrSizesR,\n",
    "                       \"Hole percent\":PercentHoles})\n",
    "if os.path.isfile(SaveCSV.split('.')[0]+'.csv'):\n",
    "    data3=pandas.read_csv(SaveCSV.split(\".\")[0]+\".csv\")\n",
    "    data3 = pandas.concat([data3, data2], ignore_index=True, sort=False)\n",
    "    data3.to_csv(SaveCSV.split(\".\")[0]+\".csv\", index=False)\n",
    "else:\n",
    "    data2.to_csv(SaveCSV.split(\".\")[0]+\".csv\", index=False)"
   ]
  },
  {
   "cell_type": "code",
   "execution_count": null,
   "id": "faf71e05-ec35-42f6-a335-e678862afed1",
   "metadata": {},
   "outputs": [],
   "source": [
    "data2"
   ]
  },
  {
   "cell_type": "code",
   "execution_count": null,
   "id": "6a8d561c-dd7e-4818-a5fb-bb6a1494dc3d",
   "metadata": {},
   "outputs": [],
   "source": []
  }
 ],
 "metadata": {
  "kernelspec": {
   "display_name": "Python 3 (ipykernel)",
   "language": "python",
   "name": "python3"
  },
  "language_info": {
   "codemirror_mode": {
    "name": "ipython",
    "version": 3
   },
   "file_extension": ".py",
   "mimetype": "text/x-python",
   "name": "python",
   "nbconvert_exporter": "python",
   "pygments_lexer": "ipython3",
   "version": "3.8.16"
  },
  "toc-autonumbering": true,
  "toc-showmarkdowntxt": true
 },
 "nbformat": 4,
 "nbformat_minor": 5
}
